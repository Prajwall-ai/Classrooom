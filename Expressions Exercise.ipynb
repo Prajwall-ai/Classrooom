{
 "cells": [
  {
   "cell_type": "markdown",
   "id": "aba47344",
   "metadata": {},
   "source": [
    "**Q.1) Write a Python expression to calculate the sum of two numbers, take inputs from user a and b.**\n"
   ]
  },
  {
   "cell_type": "code",
   "execution_count": null,
   "id": "056cb52f",
   "metadata": {},
   "outputs": [],
   "source": []
  },
  {
   "cell_type": "markdown",
   "id": "b407ad20",
   "metadata": {},
   "source": [
    "**Q.2) Write a Python expression to calculate the area of a rectangle with length l and width w.**"
   ]
  },
  {
   "cell_type": "code",
   "execution_count": null,
   "id": "f71e6b1d",
   "metadata": {},
   "outputs": [],
   "source": []
  },
  {
   "cell_type": "markdown",
   "id": "3ef2b61f",
   "metadata": {},
   "source": [
    "**Q.3) Write a Python expression to calculate the square root of a number x.**"
   ]
  },
  {
   "cell_type": "code",
   "execution_count": null,
   "id": "f2460444",
   "metadata": {},
   "outputs": [],
   "source": []
  },
  {
   "cell_type": "markdown",
   "id": "89b79a17",
   "metadata": {},
   "source": [
    "**Q.4) Write a Python expression to replicate a given string 5 times.**"
   ]
  },
  {
   "cell_type": "code",
   "execution_count": null,
   "id": "a752d55c",
   "metadata": {},
   "outputs": [],
   "source": []
  },
  {
   "cell_type": "markdown",
   "id": "2234f179",
   "metadata": {},
   "source": [
    "**Q.5) Write a Python expression to calculate the volume of a cube with side length s. (formula volume_of_cube = s^3)**"
   ]
  },
  {
   "cell_type": "code",
   "execution_count": null,
   "id": "fdee4414",
   "metadata": {},
   "outputs": [],
   "source": []
  },
  {
   "cell_type": "markdown",
   "id": "efd67c5f",
   "metadata": {},
   "source": [
    "**Q.6) Write a Python function that calculates the volume of a cylinder given its radius and height. Use the formula V = πr^2h, where V is the volume, r is the radius, and h is the height.**\n"
   ]
  },
  {
   "cell_type": "code",
   "execution_count": null,
   "id": "032caefb",
   "metadata": {},
   "outputs": [],
   "source": []
  },
  {
   "cell_type": "markdown",
   "id": "173fdb64",
   "metadata": {},
   "source": [
    "**Q.7) Kinematic Equation Solver.\n",
    "Create a Python program that solves the (kinematic_equation v = u + at) for a given set of initial velocity (u), acceleration (a), and time (t) and calculates the final velocity (v).**\n"
   ]
  },
  {
   "cell_type": "code",
   "execution_count": null,
   "id": "e08b9d39",
   "metadata": {},
   "outputs": [],
   "source": []
  },
  {
   "cell_type": "markdown",
   "id": "3fec3f08",
   "metadata": {},
   "source": [
    "**Q.8) Area of a Triangle\n",
    "Create a Python function that calculates the area of a triangle given the lengths of its three sides . Use   Heron's formula :    A = √(s(s-a)(s-b)(s-c)),**\n",
    "\n",
    "**where A is the area, s is the semi-perimeter, and a, b, and c are the lengths of the sides.**"
   ]
  },
  {
   "cell_type": "code",
   "execution_count": null,
   "id": "c0c070f5",
   "metadata": {},
   "outputs": [],
   "source": []
  }
 ],
 "metadata": {
  "kernelspec": {
   "display_name": "Python 3 (ipykernel)",
   "language": "python",
   "name": "python3"
  },
  "language_info": {
   "codemirror_mode": {
    "name": "ipython",
    "version": 3
   },
   "file_extension": ".py",
   "mimetype": "text/x-python",
   "name": "python",
   "nbconvert_exporter": "python",
   "pygments_lexer": "ipython3",
   "version": "3.9.7"
  }
 },
 "nbformat": 4,
 "nbformat_minor": 5
}
